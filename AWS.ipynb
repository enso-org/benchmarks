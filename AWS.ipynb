{
 "cells": [
  {
   "cell_type": "code",
   "execution_count": 1,
   "metadata": {},
   "outputs": [],
   "source": [
    "import pandas as pd\n",
    "import os\n",
    "import seaborn as sns\n",
    "from matplotlib import pyplot as plt"
   ]
  },
  {
   "cell_type": "code",
   "execution_count": 2,
   "metadata": {},
   "outputs": [],
   "source": [
    "python = pd.read_csv(\"./awsresults/python.csv\", skipinitialspace=True)"
   ]
  },
  {
   "cell_type": "code",
   "execution_count": 3,
   "metadata": {},
   "outputs": [],
   "source": [
    "java = pd.read_csv(\"./awsresults/java.csv\")"
   ]
  },
  {
   "cell_type": "code",
   "execution_count": 4,
   "metadata": {},
   "outputs": [],
   "source": [
    "def from_jmh(df, lang):\n",
    "    df = df.copy()\n",
    "    df = df[[\"Benchmark\", \"Score\", \"Score Error (99.9%)\"]] \\\n",
    "          .rename(columns={\"Benchmark\": \"benchmark\", \"Score\": \"time\", \"Score Error (99.9%)\": \"error\"})\n",
    "    df[\"benchmark\"] = df[\"benchmark\"].str.split('.').str[-1]\n",
    "    df[\"language\"] = lang\n",
    "    df.set_index([\"benchmark\", \"language\"], inplace=True)\n",
    "    return df"
   ]
  },
  {
   "cell_type": "code",
   "execution_count": 5,
   "metadata": {},
   "outputs": [
    {
     "data": {
      "text/html": [
       "<div>\n",
       "<style scoped>\n",
       "    .dataframe tbody tr th:only-of-type {\n",
       "        vertical-align: middle;\n",
       "    }\n",
       "\n",
       "    .dataframe tbody tr th {\n",
       "        vertical-align: top;\n",
       "    }\n",
       "\n",
       "    .dataframe thead th {\n",
       "        text-align: right;\n",
       "    }\n",
       "</style>\n",
       "<table border=\"1\" class=\"dataframe\">\n",
       "  <thead>\n",
       "    <tr style=\"text-align: right;\">\n",
       "      <th></th>\n",
       "      <th></th>\n",
       "      <th>time</th>\n",
       "      <th>error</th>\n",
       "    </tr>\n",
       "    <tr>\n",
       "      <th>benchmark</th>\n",
       "      <th>language</th>\n",
       "      <th></th>\n",
       "      <th></th>\n",
       "    </tr>\n",
       "  </thead>\n",
       "  <tbody>\n",
       "    <tr>\n",
       "      <th>alloc_full_tree</th>\n",
       "      <th>java</th>\n",
       "      <td>2.307176</td>\n",
       "      <td>0.036804</td>\n",
       "    </tr>\n",
       "    <tr>\n",
       "      <th>alloc_list</th>\n",
       "      <th>java</th>\n",
       "      <td>839.113526</td>\n",
       "      <td>93.254986</td>\n",
       "    </tr>\n",
       "    <tr>\n",
       "      <th>alloc_vector</th>\n",
       "      <th>java</th>\n",
       "      <td>26.954890</td>\n",
       "      <td>0.366312</td>\n",
       "    </tr>\n",
       "    <tr>\n",
       "      <th>sum</th>\n",
       "      <th>java</th>\n",
       "      <td>4.962264</td>\n",
       "      <td>0.001494</td>\n",
       "    </tr>\n",
       "    <tr>\n",
       "      <th>sum_list</th>\n",
       "      <th>java</th>\n",
       "      <td>36.539916</td>\n",
       "      <td>0.039989</td>\n",
       "    </tr>\n",
       "    <tr>\n",
       "      <th>sum_tree</th>\n",
       "      <th>java</th>\n",
       "      <td>1.284832</td>\n",
       "      <td>0.027147</td>\n",
       "    </tr>\n",
       "    <tr>\n",
       "      <th>sum_vector</th>\n",
       "      <th>java</th>\n",
       "      <td>9.174569</td>\n",
       "      <td>0.022747</td>\n",
       "    </tr>\n",
       "  </tbody>\n",
       "</table>\n",
       "</div>"
      ],
      "text/plain": [
       "                                time      error\n",
       "benchmark       language                       \n",
       "alloc_full_tree java        2.307176   0.036804\n",
       "alloc_list      java      839.113526  93.254986\n",
       "alloc_vector    java       26.954890   0.366312\n",
       "sum             java        4.962264   0.001494\n",
       "sum_list        java       36.539916   0.039989\n",
       "sum_tree        java        1.284832   0.027147\n",
       "sum_vector      java        9.174569   0.022747"
      ]
     },
     "execution_count": 5,
     "metadata": {},
     "output_type": "execute_result"
    }
   ],
   "source": [
    "java_df = from_jmh(java, \"java\")\n",
    "java_df"
   ]
  },
  {
   "cell_type": "code",
   "execution_count": 6,
   "metadata": {},
   "outputs": [
    {
     "data": {
      "text/html": [
       "<div>\n",
       "<style scoped>\n",
       "    .dataframe tbody tr th:only-of-type {\n",
       "        vertical-align: middle;\n",
       "    }\n",
       "\n",
       "    .dataframe tbody tr th {\n",
       "        vertical-align: top;\n",
       "    }\n",
       "\n",
       "    .dataframe thead th {\n",
       "        text-align: right;\n",
       "    }\n",
       "</style>\n",
       "<table border=\"1\" class=\"dataframe\">\n",
       "  <thead>\n",
       "    <tr style=\"text-align: right;\">\n",
       "      <th></th>\n",
       "      <th></th>\n",
       "      <th>time</th>\n",
       "      <th>error</th>\n",
       "    </tr>\n",
       "    <tr>\n",
       "      <th>benchmark</th>\n",
       "      <th>language</th>\n",
       "      <th></th>\n",
       "      <th></th>\n",
       "    </tr>\n",
       "  </thead>\n",
       "  <tbody>\n",
       "    <tr>\n",
       "      <th>alloc_full_tree</th>\n",
       "      <th>enso</th>\n",
       "      <td>320.898810</td>\n",
       "      <td>749.870109</td>\n",
       "    </tr>\n",
       "    <tr>\n",
       "      <th>alloc_list</th>\n",
       "      <th>enso</th>\n",
       "      <td>4298.581719</td>\n",
       "      <td>740.824568</td>\n",
       "    </tr>\n",
       "    <tr>\n",
       "      <th>alloc_vector</th>\n",
       "      <th>enso</th>\n",
       "      <td>999.279343</td>\n",
       "      <td>46.212894</td>\n",
       "    </tr>\n",
       "    <tr>\n",
       "      <th>sum</th>\n",
       "      <th>enso</th>\n",
       "      <td>13.050992</td>\n",
       "      <td>0.006816</td>\n",
       "    </tr>\n",
       "    <tr>\n",
       "      <th>sum_list</th>\n",
       "      <th>enso</th>\n",
       "      <td>205.084142</td>\n",
       "      <td>1.658866</td>\n",
       "    </tr>\n",
       "    <tr>\n",
       "      <th>sum_tree</th>\n",
       "      <th>enso</th>\n",
       "      <td>25.752960</td>\n",
       "      <td>0.166272</td>\n",
       "    </tr>\n",
       "    <tr>\n",
       "      <th>sum_vector</th>\n",
       "      <th>enso</th>\n",
       "      <td>276.735559</td>\n",
       "      <td>4.257302</td>\n",
       "    </tr>\n",
       "  </tbody>\n",
       "</table>\n",
       "</div>"
      ],
      "text/plain": [
       "                                 time       error\n",
       "benchmark       language                         \n",
       "alloc_full_tree enso       320.898810  749.870109\n",
       "alloc_list      enso      4298.581719  740.824568\n",
       "alloc_vector    enso       999.279343   46.212894\n",
       "sum             enso        13.050992    0.006816\n",
       "sum_list        enso       205.084142    1.658866\n",
       "sum_tree        enso        25.752960    0.166272\n",
       "sum_vector      enso       276.735559    4.257302"
      ]
     },
     "execution_count": 6,
     "metadata": {},
     "output_type": "execute_result"
    }
   ],
   "source": [
    "enso = pd.read_csv(\"./awsresults/enso.csv\")\n",
    "enso_df = from_jmh(enso, \"enso\")\n",
    "enso_df"
   ]
  },
  {
   "cell_type": "code",
   "execution_count": 7,
   "metadata": {},
   "outputs": [],
   "source": [
    "python = python[python[\"run_id\"] < 100]"
   ]
  },
  {
   "cell_type": "code",
   "execution_count": 8,
   "metadata": {},
   "outputs": [
    {
     "data": {
      "text/plain": [
       "run_id     49.500000\n",
       "time      397.319566\n",
       "dtype: float64"
      ]
     },
     "execution_count": 8,
     "metadata": {},
     "output_type": "execute_result"
    }
   ],
   "source": [
    "python[python[\"benchmark\"] == \"alloc_full_tree\"].mean()"
   ]
  },
  {
   "cell_type": "code",
   "execution_count": 9,
   "metadata": {},
   "outputs": [],
   "source": [
    "#agg = python.groupby(\"benchmark\")[\"time\"].mean()\n",
    "#pd.concat([python.groupby(\"benchmark\")[\"time\"].mean(), python.groupby(\"benchmark\")[\"time\"].std().rename(\"error\")], axis=1)"
   ]
  },
  {
   "cell_type": "markdown",
   "metadata": {},
   "source": [
    "Python has high instability on alloc_full_tree, normally it runs around 260ms, but it spikes to 2s sometimes.\n",
    "A similar problem is with Enso. See an excerpt from logs:\n",
    "\n",
    "```\n",
    "# Benchmark: org.enso.interpreter.bench.benchmarks.semantic.MicroBenchmarks.alloc_full_tree\n",
    "\n",
    "# Run progress: 0.00% complete, ETA 00:52:30\n",
    "# Fork: 1 of 3\n",
    "OpenJDK 64-Bit Server VM warning: -XX:ThreadPriorityPolicy=1 may require system level permission, e.g., being the root user. If the necessary permission is not possessed, changes to priority will be silently ignored.\n",
    "# Warmup Iteration   1: 67499.960 ms/op\n",
    "# Warmup Iteration   2: 34275.911 ms/op\n",
    "# Warmup Iteration   3: 2159.077 ms/op\n",
    "# Warmup Iteration   4: 14836.172 ms/op\n",
    "# Warmup Iteration   5: 8353.551 ms/op\n",
    "# Warmup Iteration   6: 16090.673 ms/op\n",
    "# Warmup Iteration   7: 1132.682 ms/op\n",
    "# Warmup Iteration   8: 132.280 ms/op\n",
    "# Warmup Iteration   9: 71.101 ms/op\n",
    "# Warmup Iteration  10: 68.374 ms/op\n",
    "Iteration   1: 68.546 ms/op\n",
    "Iteration   2: 67.131 ms/op\n",
    "Iteration   3: 68.610 ms/op\n",
    "Iteration   4: 69.697 ms/op\n",
    "Iteration   5: 67.850 ms/op\n",
    "Iteration   6: 68.192 ms/op\n",
    "Iteration   7: 68.151 ms/op\n",
    "Iteration   8: 68.033 ms/op\n",
    "Iteration   9: 1175.679 ms/op\n",
    "Iteration  10: 74.346 ms/op\n",
    "```\n",
    "\n",
    "We can see that in the warmup it has indeed optimized the performance of the method and the performance stabilizes just before actual iterations, but there is one spike at iteration 9.\n",
    "\n",
    "These are mostly in allocation-heavy workloads so it is likely caused by the GC. One solution could be to increase the allowed memory to avoid GC altogether."
   ]
  },
  {
   "cell_type": "code",
   "execution_count": 13,
   "metadata": {},
   "outputs": [
    {
     "data": {
      "text/html": [
       "<div>\n",
       "<style scoped>\n",
       "    .dataframe tbody tr th:only-of-type {\n",
       "        vertical-align: middle;\n",
       "    }\n",
       "\n",
       "    .dataframe tbody tr th {\n",
       "        vertical-align: top;\n",
       "    }\n",
       "\n",
       "    .dataframe thead th {\n",
       "        text-align: right;\n",
       "    }\n",
       "</style>\n",
       "<table border=\"1\" class=\"dataframe\">\n",
       "  <thead>\n",
       "    <tr style=\"text-align: right;\">\n",
       "      <th></th>\n",
       "      <th></th>\n",
       "      <th>time</th>\n",
       "      <th>error</th>\n",
       "    </tr>\n",
       "    <tr>\n",
       "      <th>benchmark</th>\n",
       "      <th>language</th>\n",
       "      <th></th>\n",
       "      <th></th>\n",
       "    </tr>\n",
       "  </thead>\n",
       "  <tbody>\n",
       "    <tr>\n",
       "      <th>100ms</th>\n",
       "      <th>python</th>\n",
       "      <td>100.214947</td>\n",
       "      <td>0.010138</td>\n",
       "    </tr>\n",
       "    <tr>\n",
       "      <th>alloc_full_tree</th>\n",
       "      <th>python</th>\n",
       "      <td>267.233709</td>\n",
       "      <td>1920.519060</td>\n",
       "    </tr>\n",
       "    <tr>\n",
       "      <th>alloc_list</th>\n",
       "      <th>python</th>\n",
       "      <td>15453.796573</td>\n",
       "      <td>2048.033683</td>\n",
       "    </tr>\n",
       "    <tr>\n",
       "      <th>alloc_vector</th>\n",
       "      <th>python</th>\n",
       "      <td>612.366446</td>\n",
       "      <td>4.456190</td>\n",
       "    </tr>\n",
       "    <tr>\n",
       "      <th>sum</th>\n",
       "      <th>python</th>\n",
       "      <td>878.030706</td>\n",
       "      <td>7.442026</td>\n",
       "    </tr>\n",
       "    <tr>\n",
       "      <th>sum_list</th>\n",
       "      <th>python</th>\n",
       "      <td>960.918656</td>\n",
       "      <td>2.535216</td>\n",
       "    </tr>\n",
       "    <tr>\n",
       "      <th>sum_tree</th>\n",
       "      <th>python</th>\n",
       "      <td>87.455905</td>\n",
       "      <td>1.594365</td>\n",
       "    </tr>\n",
       "    <tr>\n",
       "      <th>sum_vector</th>\n",
       "      <th>python</th>\n",
       "      <td>433.351415</td>\n",
       "      <td>0.741415</td>\n",
       "    </tr>\n",
       "  </tbody>\n",
       "</table>\n",
       "</div>"
      ],
      "text/plain": [
       "                                  time        error\n",
       "benchmark       language                           \n",
       "100ms           python      100.214947     0.010138\n",
       "alloc_full_tree python      267.233709  1920.519060\n",
       "alloc_list      python    15453.796573  2048.033683\n",
       "alloc_vector    python      612.366446     4.456190\n",
       "sum             python      878.030706     7.442026\n",
       "sum_list        python      960.918656     2.535216\n",
       "sum_tree        python       87.455905     1.594365\n",
       "sum_vector      python      433.351415     0.741415"
      ]
     },
     "execution_count": 13,
     "metadata": {},
     "output_type": "execute_result"
    }
   ],
   "source": [
    "agg = python.groupby(\"benchmark\")[\"time\"]\n",
    "pydf = pd.DataFrame({\"low\": agg.median() - agg.quantile(0.01), \"hi\": agg.quantile(0.99) - agg.median()})\n",
    "err = pydf[[\"low\", \"hi\"]].max(axis=1)\n",
    "pydf = pd.DataFrame({\"time\": agg.median(), \"error\": err, \"language\": \"python\"})\n",
    "pydf = pydf.reset_index().set_index([\"benchmark\", \"language\"])\n",
    "pydf"
   ]
  },
  {
   "cell_type": "code",
   "execution_count": 14,
   "metadata": {},
   "outputs": [
    {
     "data": {
      "text/html": [
       "<div>\n",
       "<style scoped>\n",
       "    .dataframe tbody tr th:only-of-type {\n",
       "        vertical-align: middle;\n",
       "    }\n",
       "\n",
       "    .dataframe tbody tr th {\n",
       "        vertical-align: top;\n",
       "    }\n",
       "\n",
       "    .dataframe thead th {\n",
       "        text-align: right;\n",
       "    }\n",
       "</style>\n",
       "<table border=\"1\" class=\"dataframe\">\n",
       "  <thead>\n",
       "    <tr style=\"text-align: right;\">\n",
       "      <th></th>\n",
       "      <th>benchmark</th>\n",
       "      <th>language</th>\n",
       "      <th>time</th>\n",
       "      <th>error</th>\n",
       "    </tr>\n",
       "  </thead>\n",
       "  <tbody>\n",
       "    <tr>\n",
       "      <th>0</th>\n",
       "      <td>100ms</td>\n",
       "      <td>python</td>\n",
       "      <td>100.214947</td>\n",
       "      <td>0.010138</td>\n",
       "    </tr>\n",
       "    <tr>\n",
       "      <th>1</th>\n",
       "      <td>alloc_full_tree</td>\n",
       "      <td>python</td>\n",
       "      <td>267.233709</td>\n",
       "      <td>1920.519060</td>\n",
       "    </tr>\n",
       "    <tr>\n",
       "      <th>2</th>\n",
       "      <td>alloc_list</td>\n",
       "      <td>python</td>\n",
       "      <td>15453.796573</td>\n",
       "      <td>2048.033683</td>\n",
       "    </tr>\n",
       "    <tr>\n",
       "      <th>3</th>\n",
       "      <td>alloc_vector</td>\n",
       "      <td>python</td>\n",
       "      <td>612.366446</td>\n",
       "      <td>4.456190</td>\n",
       "    </tr>\n",
       "    <tr>\n",
       "      <th>4</th>\n",
       "      <td>sum</td>\n",
       "      <td>python</td>\n",
       "      <td>878.030706</td>\n",
       "      <td>7.442026</td>\n",
       "    </tr>\n",
       "    <tr>\n",
       "      <th>5</th>\n",
       "      <td>sum_list</td>\n",
       "      <td>python</td>\n",
       "      <td>960.918656</td>\n",
       "      <td>2.535216</td>\n",
       "    </tr>\n",
       "    <tr>\n",
       "      <th>6</th>\n",
       "      <td>sum_tree</td>\n",
       "      <td>python</td>\n",
       "      <td>87.455905</td>\n",
       "      <td>1.594365</td>\n",
       "    </tr>\n",
       "    <tr>\n",
       "      <th>7</th>\n",
       "      <td>sum_vector</td>\n",
       "      <td>python</td>\n",
       "      <td>433.351415</td>\n",
       "      <td>0.741415</td>\n",
       "    </tr>\n",
       "    <tr>\n",
       "      <th>8</th>\n",
       "      <td>alloc_full_tree</td>\n",
       "      <td>java</td>\n",
       "      <td>2.307176</td>\n",
       "      <td>0.036804</td>\n",
       "    </tr>\n",
       "    <tr>\n",
       "      <th>9</th>\n",
       "      <td>alloc_list</td>\n",
       "      <td>java</td>\n",
       "      <td>839.113526</td>\n",
       "      <td>93.254986</td>\n",
       "    </tr>\n",
       "    <tr>\n",
       "      <th>10</th>\n",
       "      <td>alloc_vector</td>\n",
       "      <td>java</td>\n",
       "      <td>26.954890</td>\n",
       "      <td>0.366312</td>\n",
       "    </tr>\n",
       "    <tr>\n",
       "      <th>11</th>\n",
       "      <td>sum</td>\n",
       "      <td>java</td>\n",
       "      <td>4.962264</td>\n",
       "      <td>0.001494</td>\n",
       "    </tr>\n",
       "    <tr>\n",
       "      <th>12</th>\n",
       "      <td>sum_list</td>\n",
       "      <td>java</td>\n",
       "      <td>36.539916</td>\n",
       "      <td>0.039989</td>\n",
       "    </tr>\n",
       "    <tr>\n",
       "      <th>13</th>\n",
       "      <td>sum_tree</td>\n",
       "      <td>java</td>\n",
       "      <td>1.284832</td>\n",
       "      <td>0.027147</td>\n",
       "    </tr>\n",
       "    <tr>\n",
       "      <th>14</th>\n",
       "      <td>sum_vector</td>\n",
       "      <td>java</td>\n",
       "      <td>9.174569</td>\n",
       "      <td>0.022747</td>\n",
       "    </tr>\n",
       "    <tr>\n",
       "      <th>15</th>\n",
       "      <td>alloc_full_tree</td>\n",
       "      <td>enso</td>\n",
       "      <td>320.898810</td>\n",
       "      <td>749.870109</td>\n",
       "    </tr>\n",
       "    <tr>\n",
       "      <th>16</th>\n",
       "      <td>alloc_list</td>\n",
       "      <td>enso</td>\n",
       "      <td>4298.581719</td>\n",
       "      <td>740.824568</td>\n",
       "    </tr>\n",
       "    <tr>\n",
       "      <th>17</th>\n",
       "      <td>alloc_vector</td>\n",
       "      <td>enso</td>\n",
       "      <td>999.279343</td>\n",
       "      <td>46.212894</td>\n",
       "    </tr>\n",
       "    <tr>\n",
       "      <th>18</th>\n",
       "      <td>sum</td>\n",
       "      <td>enso</td>\n",
       "      <td>13.050992</td>\n",
       "      <td>0.006816</td>\n",
       "    </tr>\n",
       "    <tr>\n",
       "      <th>19</th>\n",
       "      <td>sum_list</td>\n",
       "      <td>enso</td>\n",
       "      <td>205.084142</td>\n",
       "      <td>1.658866</td>\n",
       "    </tr>\n",
       "    <tr>\n",
       "      <th>20</th>\n",
       "      <td>sum_tree</td>\n",
       "      <td>enso</td>\n",
       "      <td>25.752960</td>\n",
       "      <td>0.166272</td>\n",
       "    </tr>\n",
       "    <tr>\n",
       "      <th>21</th>\n",
       "      <td>sum_vector</td>\n",
       "      <td>enso</td>\n",
       "      <td>276.735559</td>\n",
       "      <td>4.257302</td>\n",
       "    </tr>\n",
       "  </tbody>\n",
       "</table>\n",
       "</div>"
      ],
      "text/plain": [
       "          benchmark language          time        error\n",
       "0             100ms   python    100.214947     0.010138\n",
       "1   alloc_full_tree   python    267.233709  1920.519060\n",
       "2        alloc_list   python  15453.796573  2048.033683\n",
       "3      alloc_vector   python    612.366446     4.456190\n",
       "4               sum   python    878.030706     7.442026\n",
       "5          sum_list   python    960.918656     2.535216\n",
       "6          sum_tree   python     87.455905     1.594365\n",
       "7        sum_vector   python    433.351415     0.741415\n",
       "8   alloc_full_tree     java      2.307176     0.036804\n",
       "9        alloc_list     java    839.113526    93.254986\n",
       "10     alloc_vector     java     26.954890     0.366312\n",
       "11              sum     java      4.962264     0.001494\n",
       "12         sum_list     java     36.539916     0.039989\n",
       "13         sum_tree     java      1.284832     0.027147\n",
       "14       sum_vector     java      9.174569     0.022747\n",
       "15  alloc_full_tree     enso    320.898810   749.870109\n",
       "16       alloc_list     enso   4298.581719   740.824568\n",
       "17     alloc_vector     enso    999.279343    46.212894\n",
       "18              sum     enso     13.050992     0.006816\n",
       "19         sum_list     enso    205.084142     1.658866\n",
       "20         sum_tree     enso     25.752960     0.166272\n",
       "21       sum_vector     enso    276.735559     4.257302"
      ]
     },
     "execution_count": 14,
     "metadata": {},
     "output_type": "execute_result"
    }
   ],
   "source": [
    "cmp = pd.concat([pydf, java_df, enso_df]).reset_index()\n",
    "cmp"
   ]
  },
  {
   "cell_type": "code",
   "execution_count": 15,
   "metadata": {
    "scrolled": false
   },
   "outputs": [
    {
     "name": "stdout",
     "output_type": "stream",
     "text": [
      "          benchmark language        time        error\n",
      "1   alloc_full_tree   python  267.233709  1920.519060\n",
      "8   alloc_full_tree     java    2.307176     0.036804\n",
      "15  alloc_full_tree     enso  320.898810   749.870109\n"
     ]
    },
    {
     "data": {
      "image/png": "[encoded data removed]",
      "text/plain": [
       "<Figure size 432x288 with 1 Axes>"
      ]
     },
     "metadata": {
      "needs_background": "light"
     },
     "output_type": "display_data"
    },
    {
     "name": "stdout",
     "output_type": "stream",
     "text": [
      "     benchmark language          time        error\n",
      "2   alloc_list   python  15453.796573  2048.033683\n",
      "9   alloc_list     java    839.113526    93.254986\n",
      "16  alloc_list     enso   4298.581719   740.824568\n"
     ]
    },
    {
     "data": {
      "image/png": "[encoded data removed]",
      "text/plain": [
       "<Figure size 432x288 with 1 Axes>"
      ]
     },
     "metadata": {
      "needs_background": "light"
     },
     "output_type": "display_data"
    },
    {
     "name": "stdout",
     "output_type": "stream",
     "text": [
      "       benchmark language        time      error\n",
      "3   alloc_vector   python  612.366446   4.456190\n",
      "10  alloc_vector     java   26.954890   0.366312\n",
      "17  alloc_vector     enso  999.279343  46.212894\n"
     ]
    },
    {
     "data": {
      "image/png": "[encoded data removed]",
      "text/plain": [
       "<Figure size 432x288 with 1 Axes>"
      ]
     },
     "metadata": {
      "needs_background": "light"
     },
     "output_type": "display_data"
    },
    {
     "name": "stdout",
     "output_type": "stream",
     "text": [
      "   benchmark language        time     error\n",
      "4        sum   python  878.030706  7.442026\n",
      "11       sum     java    4.962264  0.001494\n",
      "18       sum     enso   13.050992  0.006816\n"
     ]
    },
    {
     "data": {
      "image/png": "[encoded data removed]",
      "text/plain": [
       "<Figure size 432x288 with 1 Axes>"
      ]
     },
     "metadata": {
      "needs_background": "light"
     },
     "output_type": "display_data"
    },
    {
     "name": "stdout",
     "output_type": "stream",
     "text": [
      "   benchmark language        time     error\n",
      "5   sum_list   python  960.918656  2.535216\n",
      "12  sum_list     java   36.539916  0.039989\n",
      "19  sum_list     enso  205.084142  1.658866\n"
     ]
    },
    {
     "data": {
      "image/png": "[encoded data removed]",
      "text/plain": [
       "<Figure size 432x288 with 1 Axes>"
      ]
     },
     "metadata": {
      "needs_background": "light"
     },
     "output_type": "display_data"
    },
    {
     "name": "stdout",
     "output_type": "stream",
     "text": [
      "   benchmark language       time     error\n",
      "6   sum_tree   python  87.455905  1.594365\n",
      "13  sum_tree     java   1.284832  0.027147\n",
      "20  sum_tree     enso  25.752960  0.166272\n"
     ]
    },
    {
     "data": {
      "image/png": "[encoded data removed]",
      "text/plain": [
       "<Figure size 432x288 with 1 Axes>"
      ]
     },
     "metadata": {
      "needs_background": "light"
     },
     "output_type": "display_data"
    },
    {
     "name": "stdout",
     "output_type": "stream",
     "text": [
      "     benchmark language        time     error\n",
      "7   sum_vector   python  433.351415  0.741415\n",
      "14  sum_vector     java    9.174569  0.022747\n",
      "21  sum_vector     enso  276.735559  4.257302\n"
     ]
    },
    {
     "data": {
      "image/png": "[encoded data removed]",
      "text/plain": [
       "<Figure size 432x288 with 1 Axes>"
      ]
     },
     "metadata": {
      "needs_background": "light"
     },
     "output_type": "display_data"
    }
   ],
   "source": [
    "for b in cmp[\"benchmark\"].unique():\n",
    "    if b == \"100ms\":\n",
    "        continue\n",
    "    part = cmp[cmp[\"benchmark\"] == b]\n",
    "    print(part)\n",
    "    plt.bar(x=part[\"language\"], height=part[\"time\"], yerr=part[\"error\"])\n",
    "    plt.title(b)\n",
    "    plt.show()"
   ]
  },
  {
   "cell_type": "markdown",
   "metadata": {},
   "source": [
    "## Information regarding the benchmarks\n",
    "\n",
    "The basic code is at https://github.com/enso-org/benchmarks/tree/wip/rw/initial-microbenchmarks\n",
    "\n",
    "For now I have skipped JS and C++ as I don't have a good methodology there. C++ would be doable with some framework, but due to time constraints I couldn't make it. We still compare with Java and C++'s performance on this kind of code should be more-or-less comparable (but of course we should do a good comparison when time allows).\n",
    "\n",
    "While trying to benchmark Enso, I first was running it in Enso a'la https://github.com/enso-org/enso/tree/main/test/Benchmarks\n",
    "However as this incurred running different benchmarks in the same JVM and issues with sharing the state of JIT, I tried to repurpose the JMH benchmarks from `runtime` project, that can be found at https://github.com/enso-org/enso/compare/wip/rw/jmh-experiment\n",
    "\n",
    "So after all I compare Java and Enso using JMH, both are written in a very similar way. They use `avgt` mode which computes average time in milliseconds for operation.\n",
    "\n",
    "For Python, I run many iterations saving time of each and compute medians (alternatively means) of the timings."
   ]
  },
  {
   "cell_type": "code",
   "execution_count": 22,
   "metadata": {},
   "outputs": [
    {
     "data": {
      "text/html": [
       "<div>\n",
       "<style scoped>\n",
       "    .dataframe tbody tr th:only-of-type {\n",
       "        vertical-align: middle;\n",
       "    }\n",
       "\n",
       "    .dataframe tbody tr th {\n",
       "        vertical-align: top;\n",
       "    }\n",
       "\n",
       "    .dataframe thead th {\n",
       "        text-align: right;\n",
       "    }\n",
       "</style>\n",
       "<table border=\"1\" class=\"dataframe\">\n",
       "  <thead>\n",
       "    <tr style=\"text-align: right;\">\n",
       "      <th></th>\n",
       "      <th>benchmark</th>\n",
       "      <th>java/enso</th>\n",
       "      <th>python/enso</th>\n",
       "    </tr>\n",
       "  </thead>\n",
       "  <tbody>\n",
       "    <tr>\n",
       "      <th>0</th>\n",
       "      <td>alloc_full_tree</td>\n",
       "      <td>0.007190</td>\n",
       "      <td>0.832766</td>\n",
       "    </tr>\n",
       "    <tr>\n",
       "      <th>1</th>\n",
       "      <td>alloc_list</td>\n",
       "      <td>0.195207</td>\n",
       "      <td>3.595092</td>\n",
       "    </tr>\n",
       "    <tr>\n",
       "      <th>2</th>\n",
       "      <td>alloc_vector</td>\n",
       "      <td>0.026974</td>\n",
       "      <td>0.612808</td>\n",
       "    </tr>\n",
       "    <tr>\n",
       "      <th>3</th>\n",
       "      <td>sum</td>\n",
       "      <td>0.380221</td>\n",
       "      <td>67.276932</td>\n",
       "    </tr>\n",
       "    <tr>\n",
       "      <th>4</th>\n",
       "      <td>sum_list</td>\n",
       "      <td>0.178170</td>\n",
       "      <td>4.685485</td>\n",
       "    </tr>\n",
       "    <tr>\n",
       "      <th>5</th>\n",
       "      <td>sum_tree</td>\n",
       "      <td>0.049891</td>\n",
       "      <td>3.395955</td>\n",
       "    </tr>\n",
       "    <tr>\n",
       "      <th>6</th>\n",
       "      <td>sum_vector</td>\n",
       "      <td>0.033153</td>\n",
       "      <td>1.565940</td>\n",
       "    </tr>\n",
       "  </tbody>\n",
       "</table>\n",
       "</div>"
      ],
      "text/plain": [
       "         benchmark  java/enso  python/enso\n",
       "0  alloc_full_tree   0.007190     0.832766\n",
       "1       alloc_list   0.195207     3.595092\n",
       "2     alloc_vector   0.026974     0.612808\n",
       "3              sum   0.380221    67.276932\n",
       "4         sum_list   0.178170     4.685485\n",
       "5         sum_tree   0.049891     3.395955\n",
       "6       sum_vector   0.033153     1.565940"
      ]
     },
     "execution_count": 22,
     "metadata": {},
     "output_type": "execute_result"
    }
   ],
   "source": [
    "ratios = []\n",
    "for b in cmp[\"benchmark\"].unique():\n",
    "    if b == \"100ms\":\n",
    "        continue\n",
    "    part = cmp[cmp[\"benchmark\"] == b]\n",
    "    ts = part.set_index(\"language\")[\"time\"]\n",
    "    py = ts.loc[\"python\"] / ts.loc[\"enso\"]\n",
    "    java = ts.loc[\"java\"] / ts.loc[\"enso\"]\n",
    "    ratios.append({\"benchmark\": b, \"python/enso\": py, \"java/enso\": java})\n",
    "ratios = pd.DataFrame.from_records(ratios)\n",
    "ratios"
   ]
  }
 ],
 "metadata": {
  "kernelspec": {
   "display_name": "Python 3",
   "language": "python",
   "name": "python3"
  },
  "language_info": {
   "codemirror_mode": {
    "name": "ipython",
    "version": 3
   },
   "file_extension": ".py",
   "mimetype": "text/x-python",
   "name": "python",
   "nbconvert_exporter": "python",
   "pygments_lexer": "ipython3",
   "version": "3.7.3"
  }
 },
 "nbformat": 4,
 "nbformat_minor": 2
}

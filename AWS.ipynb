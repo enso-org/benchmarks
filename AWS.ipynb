{
 "cells": [
  {
   "cell_type": "code",
   "execution_count": 1,
   "metadata": {},
   "outputs": [],
   "source": [
    "import pandas as pd\n",
    "import os\n",
    "import seaborn as sns\n",
    "from matplotlib import pyplot as plt"
   ]
  },
  {
   "cell_type": "code",
   "execution_count": 16,
   "metadata": {},
   "outputs": [],
   "source": [
    "python = pd.read_csv(\"./awsresults/python.csv\", skipinitialspace=True)"
   ]
  },
  {
   "cell_type": "code",
   "execution_count": 3,
   "metadata": {},
   "outputs": [],
   "source": [
    "java = pd.read_csv(\"./awsresults/java.csv\")"
   ]
  },
  {
   "cell_type": "code",
   "execution_count": 5,
   "metadata": {},
   "outputs": [],
   "source": [
    "java[\"Benchmark\"] = java[\"Benchmark\"].str.split('.').str[-1]"
   ]
  },
  {
   "cell_type": "code",
   "execution_count": 6,
   "metadata": {},
   "outputs": [
    {
     "data": {
      "text/html": [
       "<div>\n",
       "<style scoped>\n",
       "    .dataframe tbody tr th:only-of-type {\n",
       "        vertical-align: middle;\n",
       "    }\n",
       "\n",
       "    .dataframe tbody tr th {\n",
       "        vertical-align: top;\n",
       "    }\n",
       "\n",
       "    .dataframe thead th {\n",
       "        text-align: right;\n",
       "    }\n",
       "</style>\n",
       "<table border=\"1\" class=\"dataframe\">\n",
       "  <thead>\n",
       "    <tr style=\"text-align: right;\">\n",
       "      <th></th>\n",
       "      <th>Benchmark</th>\n",
       "      <th>Mode</th>\n",
       "      <th>Threads</th>\n",
       "      <th>Samples</th>\n",
       "      <th>Score</th>\n",
       "      <th>Score Error (99.9%)</th>\n",
       "      <th>Unit</th>\n",
       "    </tr>\n",
       "  </thead>\n",
       "  <tbody>\n",
       "    <tr>\n",
       "      <th>0</th>\n",
       "      <td>alloc_full_tree</td>\n",
       "      <td>avgt</td>\n",
       "      <td>1</td>\n",
       "      <td>30</td>\n",
       "      <td>2.307176</td>\n",
       "      <td>0.036804</td>\n",
       "      <td>ms/op</td>\n",
       "    </tr>\n",
       "    <tr>\n",
       "      <th>1</th>\n",
       "      <td>alloc_list</td>\n",
       "      <td>avgt</td>\n",
       "      <td>1</td>\n",
       "      <td>30</td>\n",
       "      <td>839.113526</td>\n",
       "      <td>93.254986</td>\n",
       "      <td>ms/op</td>\n",
       "    </tr>\n",
       "    <tr>\n",
       "      <th>2</th>\n",
       "      <td>alloc_vector</td>\n",
       "      <td>avgt</td>\n",
       "      <td>1</td>\n",
       "      <td>30</td>\n",
       "      <td>26.954890</td>\n",
       "      <td>0.366312</td>\n",
       "      <td>ms/op</td>\n",
       "    </tr>\n",
       "    <tr>\n",
       "      <th>3</th>\n",
       "      <td>sum</td>\n",
       "      <td>avgt</td>\n",
       "      <td>1</td>\n",
       "      <td>30</td>\n",
       "      <td>4.962264</td>\n",
       "      <td>0.001494</td>\n",
       "      <td>ms/op</td>\n",
       "    </tr>\n",
       "    <tr>\n",
       "      <th>4</th>\n",
       "      <td>sum_list</td>\n",
       "      <td>avgt</td>\n",
       "      <td>1</td>\n",
       "      <td>30</td>\n",
       "      <td>36.539916</td>\n",
       "      <td>0.039989</td>\n",
       "      <td>ms/op</td>\n",
       "    </tr>\n",
       "    <tr>\n",
       "      <th>5</th>\n",
       "      <td>sum_tree</td>\n",
       "      <td>avgt</td>\n",
       "      <td>1</td>\n",
       "      <td>30</td>\n",
       "      <td>1.284832</td>\n",
       "      <td>0.027147</td>\n",
       "      <td>ms/op</td>\n",
       "    </tr>\n",
       "    <tr>\n",
       "      <th>6</th>\n",
       "      <td>sum_vector</td>\n",
       "      <td>avgt</td>\n",
       "      <td>1</td>\n",
       "      <td>30</td>\n",
       "      <td>9.174569</td>\n",
       "      <td>0.022747</td>\n",
       "      <td>ms/op</td>\n",
       "    </tr>\n",
       "  </tbody>\n",
       "</table>\n",
       "</div>"
      ],
      "text/plain": [
       "         Benchmark  Mode  Threads  Samples       Score  Score Error (99.9%)  \\\n",
       "0  alloc_full_tree  avgt        1       30    2.307176             0.036804   \n",
       "1       alloc_list  avgt        1       30  839.113526            93.254986   \n",
       "2     alloc_vector  avgt        1       30   26.954890             0.366312   \n",
       "3              sum  avgt        1       30    4.962264             0.001494   \n",
       "4         sum_list  avgt        1       30   36.539916             0.039989   \n",
       "5         sum_tree  avgt        1       30    1.284832             0.027147   \n",
       "6       sum_vector  avgt        1       30    9.174569             0.022747   \n",
       "\n",
       "    Unit  \n",
       "0  ms/op  \n",
       "1  ms/op  \n",
       "2  ms/op  \n",
       "3  ms/op  \n",
       "4  ms/op  \n",
       "5  ms/op  \n",
       "6  ms/op  "
      ]
     },
     "execution_count": 6,
     "metadata": {},
     "output_type": "execute_result"
    }
   ],
   "source": [
    "java"
   ]
  },
  {
   "cell_type": "code",
   "execution_count": 13,
   "metadata": {},
   "outputs": [
    {
     "data": {
      "text/html": [
       "<div>\n",
       "<style scoped>\n",
       "    .dataframe tbody tr th:only-of-type {\n",
       "        vertical-align: middle;\n",
       "    }\n",
       "\n",
       "    .dataframe tbody tr th {\n",
       "        vertical-align: top;\n",
       "    }\n",
       "\n",
       "    .dataframe thead th {\n",
       "        text-align: right;\n",
       "    }\n",
       "</style>\n",
       "<table border=\"1\" class=\"dataframe\">\n",
       "  <thead>\n",
       "    <tr style=\"text-align: right;\">\n",
       "      <th></th>\n",
       "      <th></th>\n",
       "      <th>time</th>\n",
       "      <th>error</th>\n",
       "    </tr>\n",
       "    <tr>\n",
       "      <th>benchmark</th>\n",
       "      <th>language</th>\n",
       "      <th></th>\n",
       "      <th></th>\n",
       "    </tr>\n",
       "  </thead>\n",
       "  <tbody>\n",
       "    <tr>\n",
       "      <th>alloc_full_tree</th>\n",
       "      <th>java</th>\n",
       "      <td>2.307176</td>\n",
       "      <td>0.036804</td>\n",
       "    </tr>\n",
       "    <tr>\n",
       "      <th>alloc_list</th>\n",
       "      <th>java</th>\n",
       "      <td>839.113526</td>\n",
       "      <td>93.254986</td>\n",
       "    </tr>\n",
       "    <tr>\n",
       "      <th>alloc_vector</th>\n",
       "      <th>java</th>\n",
       "      <td>26.954890</td>\n",
       "      <td>0.366312</td>\n",
       "    </tr>\n",
       "    <tr>\n",
       "      <th>sum</th>\n",
       "      <th>java</th>\n",
       "      <td>4.962264</td>\n",
       "      <td>0.001494</td>\n",
       "    </tr>\n",
       "    <tr>\n",
       "      <th>sum_list</th>\n",
       "      <th>java</th>\n",
       "      <td>36.539916</td>\n",
       "      <td>0.039989</td>\n",
       "    </tr>\n",
       "    <tr>\n",
       "      <th>sum_tree</th>\n",
       "      <th>java</th>\n",
       "      <td>1.284832</td>\n",
       "      <td>0.027147</td>\n",
       "    </tr>\n",
       "    <tr>\n",
       "      <th>sum_vector</th>\n",
       "      <th>java</th>\n",
       "      <td>9.174569</td>\n",
       "      <td>0.022747</td>\n",
       "    </tr>\n",
       "  </tbody>\n",
       "</table>\n",
       "</div>"
      ],
      "text/plain": [
       "                                time      error\n",
       "benchmark       language                       \n",
       "alloc_full_tree java        2.307176   0.036804\n",
       "alloc_list      java      839.113526  93.254986\n",
       "alloc_vector    java       26.954890   0.366312\n",
       "sum             java        4.962264   0.001494\n",
       "sum_list        java       36.539916   0.039989\n",
       "sum_tree        java        1.284832   0.027147\n",
       "sum_vector      java        9.174569   0.022747"
      ]
     },
     "execution_count": 13,
     "metadata": {},
     "output_type": "execute_result"
    }
   ],
   "source": [
    "java_df = java[[\"Benchmark\", \"Score\", \"Score Error (99.9%)\"]] \\\n",
    "    .rename(columns={\"Benchmark\": \"benchmark\", \"Score\": \"time\", \"Score Error (99.9%)\": \"error\"})\n",
    "java_df[\"language\"] = \"java\"\n",
    "java_df.set_index([\"benchmark\", \"language\"], inplace=True)\n",
    "java_df"
   ]
  },
  {
   "cell_type": "code",
   "execution_count": 70,
   "metadata": {},
   "outputs": [],
   "source": [
    "python = python[python[\"run_id\"] < 100]"
   ]
  },
  {
   "cell_type": "code",
   "execution_count": 72,
   "metadata": {},
   "outputs": [
    {
     "data": {
      "text/plain": [
       "run_id     49.500000\n",
       "time      397.319566\n",
       "dtype: float64"
      ]
     },
     "execution_count": 72,
     "metadata": {},
     "output_type": "execute_result"
    }
   ],
   "source": [
    "python[python[\"benchmark\"] == \"alloc_full_tree\"].mean()"
   ]
  },
  {
   "cell_type": "code",
   "execution_count": 83,
   "metadata": {},
   "outputs": [],
   "source": [
    "#agg = python.groupby(\"benchmark\")[\"time\"].mean()\n",
    "#pd.concat([python.groupby(\"benchmark\")[\"time\"].mean(), python.groupby(\"benchmark\")[\"time\"].std().rename(\"error\")], axis=1)"
   ]
  },
  {
   "cell_type": "markdown",
   "metadata": {},
   "source": [
    "Python has high instability on alloc_full_tree, normally it runs around 260ms, but it spikes to 2s sometimes.\n",
    "For now I ignor these outliers, but we could plot them in details (although we don't have such data for JVM)"
   ]
  },
  {
   "cell_type": "code",
   "execution_count": 79,
   "metadata": {},
   "outputs": [
    {
     "data": {
      "text/html": [
       "<div>\n",
       "<style scoped>\n",
       "    .dataframe tbody tr th:only-of-type {\n",
       "        vertical-align: middle;\n",
       "    }\n",
       "\n",
       "    .dataframe tbody tr th {\n",
       "        vertical-align: top;\n",
       "    }\n",
       "\n",
       "    .dataframe thead th {\n",
       "        text-align: right;\n",
       "    }\n",
       "</style>\n",
       "<table border=\"1\" class=\"dataframe\">\n",
       "  <thead>\n",
       "    <tr style=\"text-align: right;\">\n",
       "      <th></th>\n",
       "      <th></th>\n",
       "      <th>time</th>\n",
       "      <th>error</th>\n",
       "    </tr>\n",
       "    <tr>\n",
       "      <th>benchmark</th>\n",
       "      <th>language</th>\n",
       "      <th></th>\n",
       "      <th></th>\n",
       "    </tr>\n",
       "  </thead>\n",
       "  <tbody>\n",
       "    <tr>\n",
       "      <th>100ms</th>\n",
       "      <th>python</th>\n",
       "      <td>100.214947</td>\n",
       "      <td>0.003729</td>\n",
       "    </tr>\n",
       "    <tr>\n",
       "      <th>alloc_full_tree</th>\n",
       "      <th>python</th>\n",
       "      <td>267.233709</td>\n",
       "      <td>1.620339</td>\n",
       "    </tr>\n",
       "    <tr>\n",
       "      <th>alloc_list</th>\n",
       "      <th>python</th>\n",
       "      <td>15453.796573</td>\n",
       "      <td>1795.286100</td>\n",
       "    </tr>\n",
       "    <tr>\n",
       "      <th>alloc_vector</th>\n",
       "      <th>python</th>\n",
       "      <td>612.366446</td>\n",
       "      <td>1.968831</td>\n",
       "    </tr>\n",
       "    <tr>\n",
       "      <th>sum</th>\n",
       "      <th>python</th>\n",
       "      <td>878.030706</td>\n",
       "      <td>2.351081</td>\n",
       "    </tr>\n",
       "    <tr>\n",
       "      <th>sum_list</th>\n",
       "      <th>python</th>\n",
       "      <td>960.918656</td>\n",
       "      <td>0.397923</td>\n",
       "    </tr>\n",
       "    <tr>\n",
       "      <th>sum_tree</th>\n",
       "      <th>python</th>\n",
       "      <td>87.455905</td>\n",
       "      <td>0.131699</td>\n",
       "    </tr>\n",
       "    <tr>\n",
       "      <th>sum_vector</th>\n",
       "      <th>python</th>\n",
       "      <td>433.351415</td>\n",
       "      <td>0.268838</td>\n",
       "    </tr>\n",
       "  </tbody>\n",
       "</table>\n",
       "</div>"
      ],
      "text/plain": [
       "                                  time        error\n",
       "benchmark       language                           \n",
       "100ms           python      100.214947     0.003729\n",
       "alloc_full_tree python      267.233709     1.620339\n",
       "alloc_list      python    15453.796573  1795.286100\n",
       "alloc_vector    python      612.366446     1.968831\n",
       "sum             python      878.030706     2.351081\n",
       "sum_list        python      960.918656     0.397923\n",
       "sum_tree        python       87.455905     0.131699\n",
       "sum_vector      python      433.351415     0.268838"
      ]
     },
     "execution_count": 79,
     "metadata": {},
     "output_type": "execute_result"
    }
   ],
   "source": [
    "agg = python.groupby(\"benchmark\")[\"time\"]\n",
    "pydf = pd.DataFrame({\"low\": agg.median() - agg.quantile(0.1), \"hi\": agg.quantile(0.9) - agg.median()})\n",
    "err = pydf[[\"low\", \"hi\"]].max(axis=1)\n",
    "pydf = pd.DataFrame({\"time\": agg.median(), \"error\": err, \"language\": \"python\"})\n",
    "pydf = pydf.reset_index().set_index([\"benchmark\", \"language\"])\n",
    "pydf"
   ]
  },
  {
   "cell_type": "code",
   "execution_count": 80,
   "metadata": {},
   "outputs": [
    {
     "data": {
      "text/html": [
       "<div>\n",
       "<style scoped>\n",
       "    .dataframe tbody tr th:only-of-type {\n",
       "        vertical-align: middle;\n",
       "    }\n",
       "\n",
       "    .dataframe tbody tr th {\n",
       "        vertical-align: top;\n",
       "    }\n",
       "\n",
       "    .dataframe thead th {\n",
       "        text-align: right;\n",
       "    }\n",
       "</style>\n",
       "<table border=\"1\" class=\"dataframe\">\n",
       "  <thead>\n",
       "    <tr style=\"text-align: right;\">\n",
       "      <th></th>\n",
       "      <th>benchmark</th>\n",
       "      <th>language</th>\n",
       "      <th>time</th>\n",
       "      <th>error</th>\n",
       "    </tr>\n",
       "  </thead>\n",
       "  <tbody>\n",
       "    <tr>\n",
       "      <th>0</th>\n",
       "      <td>100ms</td>\n",
       "      <td>python</td>\n",
       "      <td>100.214947</td>\n",
       "      <td>0.003729</td>\n",
       "    </tr>\n",
       "    <tr>\n",
       "      <th>1</th>\n",
       "      <td>alloc_full_tree</td>\n",
       "      <td>python</td>\n",
       "      <td>267.233709</td>\n",
       "      <td>1.620339</td>\n",
       "    </tr>\n",
       "    <tr>\n",
       "      <th>2</th>\n",
       "      <td>alloc_list</td>\n",
       "      <td>python</td>\n",
       "      <td>15453.796573</td>\n",
       "      <td>1795.286100</td>\n",
       "    </tr>\n",
       "    <tr>\n",
       "      <th>3</th>\n",
       "      <td>alloc_vector</td>\n",
       "      <td>python</td>\n",
       "      <td>612.366446</td>\n",
       "      <td>1.968831</td>\n",
       "    </tr>\n",
       "    <tr>\n",
       "      <th>4</th>\n",
       "      <td>sum</td>\n",
       "      <td>python</td>\n",
       "      <td>878.030706</td>\n",
       "      <td>2.351081</td>\n",
       "    </tr>\n",
       "    <tr>\n",
       "      <th>5</th>\n",
       "      <td>sum_list</td>\n",
       "      <td>python</td>\n",
       "      <td>960.918656</td>\n",
       "      <td>0.397923</td>\n",
       "    </tr>\n",
       "    <tr>\n",
       "      <th>6</th>\n",
       "      <td>sum_tree</td>\n",
       "      <td>python</td>\n",
       "      <td>87.455905</td>\n",
       "      <td>0.131699</td>\n",
       "    </tr>\n",
       "    <tr>\n",
       "      <th>7</th>\n",
       "      <td>sum_vector</td>\n",
       "      <td>python</td>\n",
       "      <td>433.351415</td>\n",
       "      <td>0.268838</td>\n",
       "    </tr>\n",
       "    <tr>\n",
       "      <th>8</th>\n",
       "      <td>alloc_full_tree</td>\n",
       "      <td>java</td>\n",
       "      <td>2.307176</td>\n",
       "      <td>0.036804</td>\n",
       "    </tr>\n",
       "    <tr>\n",
       "      <th>9</th>\n",
       "      <td>alloc_list</td>\n",
       "      <td>java</td>\n",
       "      <td>839.113526</td>\n",
       "      <td>93.254986</td>\n",
       "    </tr>\n",
       "    <tr>\n",
       "      <th>10</th>\n",
       "      <td>alloc_vector</td>\n",
       "      <td>java</td>\n",
       "      <td>26.954890</td>\n",
       "      <td>0.366312</td>\n",
       "    </tr>\n",
       "    <tr>\n",
       "      <th>11</th>\n",
       "      <td>sum</td>\n",
       "      <td>java</td>\n",
       "      <td>4.962264</td>\n",
       "      <td>0.001494</td>\n",
       "    </tr>\n",
       "    <tr>\n",
       "      <th>12</th>\n",
       "      <td>sum_list</td>\n",
       "      <td>java</td>\n",
       "      <td>36.539916</td>\n",
       "      <td>0.039989</td>\n",
       "    </tr>\n",
       "    <tr>\n",
       "      <th>13</th>\n",
       "      <td>sum_tree</td>\n",
       "      <td>java</td>\n",
       "      <td>1.284832</td>\n",
       "      <td>0.027147</td>\n",
       "    </tr>\n",
       "    <tr>\n",
       "      <th>14</th>\n",
       "      <td>sum_vector</td>\n",
       "      <td>java</td>\n",
       "      <td>9.174569</td>\n",
       "      <td>0.022747</td>\n",
       "    </tr>\n",
       "  </tbody>\n",
       "</table>\n",
       "</div>"
      ],
      "text/plain": [
       "          benchmark language          time        error\n",
       "0             100ms   python    100.214947     0.003729\n",
       "1   alloc_full_tree   python    267.233709     1.620339\n",
       "2        alloc_list   python  15453.796573  1795.286100\n",
       "3      alloc_vector   python    612.366446     1.968831\n",
       "4               sum   python    878.030706     2.351081\n",
       "5          sum_list   python    960.918656     0.397923\n",
       "6          sum_tree   python     87.455905     0.131699\n",
       "7        sum_vector   python    433.351415     0.268838\n",
       "8   alloc_full_tree     java      2.307176     0.036804\n",
       "9        alloc_list     java    839.113526    93.254986\n",
       "10     alloc_vector     java     26.954890     0.366312\n",
       "11              sum     java      4.962264     0.001494\n",
       "12         sum_list     java     36.539916     0.039989\n",
       "13         sum_tree     java      1.284832     0.027147\n",
       "14       sum_vector     java      9.174569     0.022747"
      ]
     },
     "execution_count": 80,
     "metadata": {},
     "output_type": "execute_result"
    }
   ],
   "source": [
    "cmp = pd.concat([pydf, java_df]).reset_index()\n",
    "cmp"
   ]
  },
  {
   "cell_type": "code",
   "execution_count": 84,
   "metadata": {
    "scrolled": false
   },
   "outputs": [
    {
     "name": "stdout",
     "output_type": "stream",
     "text": [
      "         benchmark language        time     error\n",
      "1  alloc_full_tree   python  267.233709  1.620339\n",
      "8  alloc_full_tree     java    2.307176  0.036804\n"
     ]
    },
    {
     "data": {
      "image/png": "[encoded data removed]",
      "text/plain": [
       "<Figure size 432x288 with 1 Axes>"
      ]
     },
     "metadata": {
      "needs_background": "light"
     },
     "output_type": "display_data"
    },
    {
     "name": "stdout",
     "output_type": "stream",
     "text": [
      "    benchmark language          time        error\n",
      "2  alloc_list   python  15453.796573  1795.286100\n",
      "9  alloc_list     java    839.113526    93.254986\n"
     ]
    },
    {
     "data": {
      "image/png": "[encoded data removed]",
      "text/plain": [
       "<Figure size 432x288 with 1 Axes>"
      ]
     },
     "metadata": {
      "needs_background": "light"
     },
     "output_type": "display_data"
    },
    {
     "name": "stdout",
     "output_type": "stream",
     "text": [
      "       benchmark language        time     error\n",
      "3   alloc_vector   python  612.366446  1.968831\n",
      "10  alloc_vector     java   26.954890  0.366312\n"
     ]
    },
    {
     "data": {
      "image/png": "[encoded data removed]",
      "text/plain": [
       "<Figure size 432x288 with 1 Axes>"
      ]
     },
     "metadata": {
      "needs_background": "light"
     },
     "output_type": "display_data"
    },
    {
     "name": "stdout",
     "output_type": "stream",
     "text": [
      "   benchmark language        time     error\n",
      "4        sum   python  878.030706  2.351081\n",
      "11       sum     java    4.962264  0.001494\n"
     ]
    },
    {
     "data": {
      "image/png": "[encoded data removed]",
      "text/plain": [
       "<Figure size 432x288 with 1 Axes>"
      ]
     },
     "metadata": {
      "needs_background": "light"
     },
     "output_type": "display_data"
    },
    {
     "name": "stdout",
     "output_type": "stream",
     "text": [
      "   benchmark language        time     error\n",
      "5   sum_list   python  960.918656  0.397923\n",
      "12  sum_list     java   36.539916  0.039989\n"
     ]
    },
    {
     "data": {
      "image/png": "[encoded data removed]",
      "text/plain": [
       "<Figure size 432x288 with 1 Axes>"
      ]
     },
     "metadata": {
      "needs_background": "light"
     },
     "output_type": "display_data"
    },
    {
     "name": "stdout",
     "output_type": "stream",
     "text": [
      "   benchmark language       time     error\n",
      "6   sum_tree   python  87.455905  0.131699\n",
      "13  sum_tree     java   1.284832  0.027147\n"
     ]
    },
    {
     "data": {
      "image/png": "[encoded data removed]",
      "text/plain": [
       "<Figure size 432x288 with 1 Axes>"
      ]
     },
     "metadata": {
      "needs_background": "light"
     },
     "output_type": "display_data"
    },
    {
     "name": "stdout",
     "output_type": "stream",
     "text": [
      "     benchmark language        time     error\n",
      "7   sum_vector   python  433.351415  0.268838\n",
      "14  sum_vector     java    9.174569  0.022747\n"
     ]
    },
    {
     "data": {
      "image/png": "[encoded data removed]",
      "text/plain": [
       "<Figure size 432x288 with 1 Axes>"
      ]
     },
     "metadata": {
      "needs_background": "light"
     },
     "output_type": "display_data"
    }
   ],
   "source": [
    "for b in cmp[\"benchmark\"].unique():\n",
    "    if b == \"100ms\":\n",
    "        continue\n",
    "    part = cmp[cmp[\"benchmark\"] == b]\n",
    "    print(part)\n",
    "    plt.bar(x=part[\"language\"], height=part[\"time\"], yerr=part[\"error\"])\n",
    "    plt.title(b)\n",
    "    plt.show()"
   ]
  },
  {
   "cell_type": "markdown",
   "metadata": {},
   "source": [
    "## Information regarding the benchmarks\n",
    "\n",
    "The basic code is at https://github.com/enso-org/benchmarks/tree/wip/rw/initial-microbenchmarks\n",
    "\n",
    "For now I have skipped JS and C++ as I don't have a good methodology there. C++ would be doable with some framework, but due to time constraints I couldn't make it. We still compare with Java and C++'s performance on this kind of code should be more-or-less comparable (but of course we should do a good comparison when time allows).\n",
    "\n",
    "While trying to benchmark Enso, I first was running it in Enso a'la https://github.com/enso-org/enso/tree/main/test/Benchmarks\n",
    "However as this incurred running different benchmarks in the same JVM and issues with sharing the state of JIT, I tried to repurpose the JMH benchmarks from `runtime` project, that can be found at https://github.com/enso-org/enso/compare/wip/rw/jmh-experiment\n",
    "\n",
    "So after all I compare Java and Enso using JMH, both are written in a very similar way. They use `avgt` mode which computes average time in milliseconds for operation.\n",
    "\n",
    "For Python, I run many iterations saving time of each and compute medians (alternatively means) of the timings."
   ]
  },
  {
   "cell_type": "code",
   "execution_count": null,
   "metadata": {},
   "outputs": [],
   "source": []
  }
 ],
 "metadata": {
  "kernelspec": {
   "display_name": "Python 3",
   "language": "python",
   "name": "python3"
  },
  "language_info": {
   "codemirror_mode": {
    "name": "ipython",
    "version": 3
   },
   "file_extension": ".py",
   "mimetype": "text/x-python",
   "name": "python",
   "nbconvert_exporter": "python",
   "pygments_lexer": "ipython3",
   "version": "3.7.3"
  }
 },
 "nbformat": 4,
 "nbformat_minor": 2
}
